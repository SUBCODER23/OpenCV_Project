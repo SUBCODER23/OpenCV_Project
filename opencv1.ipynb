{
 "cells": [
  {
   "cell_type": "code",
   "execution_count": 3,
   "metadata": {
    "scrolled": true
   },
   "outputs": [],
   "source": [
    "import cv2\n",
    "import glob # For matching datatypes. Learn more: https://pymotw.com/2/glob/\n",
    "import os\n",
    "\n",
    "#change directory to your image directory\n",
    "path = os.getcwd() + r'' # os.getcwd() leads you to your current directory\n",
    "os.chdir(path)\n",
    "    \n",
    "# Create a list of files that has the extension JPG\n",
    "images = glob.glob('*.jpg')\n",
    "\n",
    "# Create a folder called resized \n",
    "folder = 'resized'\n",
    "if not os.path.exists(folder):\n",
    "    os.makedirs(folder)\n",
    "\n",
    "# Loop through the images\n",
    "for image in images:\n",
    "    # Read images path (0 for grayscale, 1 for color)\n",
    "    img=cv2.imread(image ,0)\n",
    "    \n",
    "    # Create a variable to store the resized image \n",
    "    # shape[0] = width, shape[1] = height\n",
    "    re=cv2.resize(img,(int(img.shape[1]/12),int(img.shape[0]/16)))\n",
    "    \n",
    "    # Check out that images in re has been resized\n",
    "    cv2.imshow('Checking...',re)\n",
    "    \n",
    "    # Show result image for 0,5 sec on screen\n",
    "    cv2.waitKey(500)\n",
    "    cv2.destroyAllWindows()\n",
    "    \n",
    "    # Write resized file\n",
    "    cv2.imwrite(folder + '/' + 'resized_'+image, re)\n",
    "\n",
    "# Change directory to your working directory\n",
    "path = os.getcwd()\n",
    "os.chdir(path)"
   ]
  },
  {
   "cell_type": "code",
   "execution_count": null,
   "metadata": {},
   "outputs": [],
   "source": []
  },
  {
   "cell_type": "code",
   "execution_count": null,
   "metadata": {},
   "outputs": [],
   "source": []
  }
 ],
 "metadata": {
  "kernelspec": {
   "display_name": "Python 3",
   "language": "python",
   "name": "python3"
  },
  "language_info": {
   "codemirror_mode": {
    "name": "ipython",
    "version": 3
   },
   "file_extension": ".py",
   "mimetype": "text/x-python",
   "name": "python",
   "nbconvert_exporter": "python",
   "pygments_lexer": "ipython3",
   "version": "3.8.5"
  }
 },
 "nbformat": 4,
 "nbformat_minor": 4
}
